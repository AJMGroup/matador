{
 "cells": [
  {
   "cell_type": "code",
   "execution_count": 7,
   "metadata": {},
   "outputs": [
    {
     "name": "stdout",
     "output_type": "stream",
     "text": [
      "rm: cannot remove '*.lock': No such file or directory\r\n"
     ]
    }
   ],
   "source": [
    "!rm *.txt *.lock"
   ]
  },
  {
   "cell_type": "code",
   "execution_count": null,
   "metadata": {},
   "outputs": [
    {
     "name": "stdout",
     "output_type": "stream",
     "text": [
      "2018-11-08 17:52:17,832 -     INFO: Initialising FullRelaxer object for LiCoO2-CollCode29225\n",
      "2018-11-08 17:52:17,832 -     INFO: Calling CASTEP on LiCoO2-CollCode29225\n",
      "2018-11-08 17:52:17,832 -     INFO: Testing executable castep.\n",
      "2018-11-08 17:52:17,838 -     INFO: Using default MPI library.\n",
      "2018-11-08 17:52:17,839 -     INFO: Detected default MPI.\n",
      "2018-11-08 17:52:17,881 -  WARNING: MPI library tried to use too many cores and failed, rescaling core count and re-running with 4 cores...\n",
      "2018-11-08 17:52:17,881 -  WARNING: stdout: \n",
      "2018-11-08 17:52:17,881 -  WARNING: sterr: --------------------------------------------------------------------------\n",
      "There are not enough slots available in the system to satisfy the 8 slots\n",
      "that were requested by the application:\n",
      "  castep\n",
      "\n",
      "Either request fewer slots for your application, or make more slots available\n",
      "for use.\n",
      "--------------------------------------------------------------------------\n",
      "\n",
      "2018-11-08 17:52:17,881 -     INFO: Testing executable castep.\n",
      "2018-11-08 17:52:17,991 -     INFO: Performing Workflow of type CastepSpectralWorkflow on LiCoO2-CollCode29225\n",
      "2018-11-08 17:52:17,991 -     INFO: Getting seekpath cell and kpoint path.\n",
      "2018-11-08 17:52:18,053 -     INFO: Preprocessing completed: run3 spectral options {'scf': True, 'dos': True, 'dispersion': True}\n",
      "2018-11-08 17:52:18,053 -     INFO: WorkflowStep scf starting...\n",
      "2018-11-08 17:52:18,054 -     INFO: Performing CASTEP spectral SCF...\n",
      "2018-11-08 17:52:18,054 -     INFO: Performing single-shot CASTEP run on LiCoO2-CollCode29225\n",
      "2018-11-08 17:54:27,240 -     INFO: WorkflowStep scf completed successfully.\n",
      "2018-11-08 17:54:27,240 -     INFO: WorkflowStep dos starting...\n",
      "2018-11-08 17:54:27,240 -     INFO: Performing CASTEP spectral DOS calculation...\n",
      "2018-11-08 17:54:27,240 -     INFO: Performing single-shot CASTEP run on LiCoO2-CollCode29225\n"
     ]
    }
   ],
   "source": [
    "!run3 -v 2 LiCoO2"
   ]
  },
  {
   "cell_type": "code",
   "execution_count": null,
   "metadata": {},
   "outputs": [],
   "source": [
    "%matplotlib inline\n",
    "from matador.plotting import plot_spectral"
   ]
  },
  {
   "cell_type": "code",
   "execution_count": null,
   "metadata": {
    "scrolled": false
   },
   "outputs": [],
   "source": [
    "plot_spectral('completed/LiCoO2-CollCode29225', pdis_point_scale=25)"
   ]
  },
  {
   "cell_type": "code",
   "execution_count": null,
   "metadata": {},
   "outputs": [],
   "source": []
  }
 ],
 "metadata": {
  "kernelspec": {
   "display_name": "Python [conda env:dev]",
   "language": "python",
   "name": "conda-env-dev-py"
  },
  "language_info": {
   "codemirror_mode": {
    "name": "ipython",
    "version": 3
   },
   "file_extension": ".py",
   "mimetype": "text/x-python",
   "name": "python",
   "nbconvert_exporter": "python",
   "pygments_lexer": "ipython3",
   "version": "3.6.6"
  },
  "widgets": {
   "state": {},
   "version": "1.1.2"
  }
 },
 "nbformat": 4,
 "nbformat_minor": 2
}
